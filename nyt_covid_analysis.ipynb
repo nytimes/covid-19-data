{
 "cells": [
  {
   "cell_type": "markdown",
   "metadata": {},
   "source": [
    "# Ideas\n",
    "\n",
    "* Correlate `elapsed_time` between first case and `mandate_when` with `cases_per_million`\n",
    "* Correlate `mask_mandate` with `pos_cases_per_tests`"
   ]
  },
  {
   "cell_type": "code",
   "execution_count": 1,
   "metadata": {},
   "outputs": [],
   "source": [
    "import pandas as pd\n",
    "import numpy as np\n",
    "import matplotlib.pyplot as plt\n",
    "import seaborn as sns"
   ]
  },
  {
   "cell_type": "code",
   "execution_count": 2,
   "metadata": {},
   "outputs": [
    {
     "data": {
      "text/plain": [
       "['county_dataset', 'state_dataset']"
      ]
     },
     "execution_count": 2,
     "metadata": {},
     "output_type": "execute_result"
    }
   ],
   "source": [
    "import sqlalchemy as sq\n",
    "location = 'sqlite:///data/nyt_covid.db'\n",
    "engine = sq.create_engine(location)\n",
    "engine.table_names()"
   ]
  },
  {
   "cell_type": "code",
   "execution_count": 3,
   "metadata": {},
   "outputs": [],
   "source": [
    "cnx = sq.create_engine(location)\n",
    "df_county = pd.read_sql_table('county_dataset', cnx)\n",
    "df_state = pd.read_sql_table('state_dataset', cnx)"
   ]
  },
  {
   "cell_type": "markdown",
   "metadata": {},
   "source": [
    "# Analysis"
   ]
  },
  {
   "cell_type": "markdown",
   "metadata": {},
   "source": [
    "## County Mask Use"
   ]
  },
  {
   "cell_type": "markdown",
   "metadata": {},
   "source": [
    "NOTE: Reminder that county covid cases represent the mean of all total cases from June onwards."
   ]
  },
  {
   "cell_type": "code",
   "execution_count": 4,
   "metadata": {},
   "outputs": [],
   "source": [
    "df_county['mask_wearer'] = (df_county['mask_always'] + df_county['mask_frequently'])*100\n",
    "df_county['non_wearer'] = (df_county['mask_rarely'] + df_county['mask_never']+ df_county['mask_sometimes'])*100"
   ]
  },
  {
   "cell_type": "code",
   "execution_count": 5,
   "metadata": {
    "scrolled": true
   },
   "outputs": [
    {
     "data": {
      "text/html": [
       "<div>\n",
       "<style scoped>\n",
       "    .dataframe tbody tr th:only-of-type {\n",
       "        vertical-align: middle;\n",
       "    }\n",
       "\n",
       "    .dataframe tbody tr th {\n",
       "        vertical-align: top;\n",
       "    }\n",
       "\n",
       "    .dataframe thead th {\n",
       "        text-align: right;\n",
       "    }\n",
       "</style>\n",
       "<table border=\"1\" class=\"dataframe\">\n",
       "  <thead>\n",
       "    <tr style=\"text-align: right;\">\n",
       "      <th></th>\n",
       "      <th>mask_wearer</th>\n",
       "      <th>non_wearer</th>\n",
       "      <th>covid_cases</th>\n",
       "      <th>covid_deaths</th>\n",
       "    </tr>\n",
       "    <tr>\n",
       "      <th>state</th>\n",
       "      <th></th>\n",
       "      <th></th>\n",
       "      <th></th>\n",
       "      <th></th>\n",
       "    </tr>\n",
       "  </thead>\n",
       "  <tbody>\n",
       "    <tr>\n",
       "      <th>North Dakota</th>\n",
       "      <td>50.907843</td>\n",
       "      <td>49.090196</td>\n",
       "      <td>82.981837</td>\n",
       "      <td>1.650196</td>\n",
       "    </tr>\n",
       "    <tr>\n",
       "      <th>Montana</th>\n",
       "      <td>52.532609</td>\n",
       "      <td>47.463043</td>\n",
       "      <td>43.033351</td>\n",
       "      <td>0.669810</td>\n",
       "    </tr>\n",
       "    <tr>\n",
       "      <th>Wyoming</th>\n",
       "      <td>56.823810</td>\n",
       "      <td>43.185714</td>\n",
       "      <td>88.164444</td>\n",
       "      <td>1.057143</td>\n",
       "    </tr>\n",
       "    <tr>\n",
       "      <th>Missouri</th>\n",
       "      <td>57.709346</td>\n",
       "      <td>42.289720</td>\n",
       "      <td>131.670859</td>\n",
       "      <td>2.085625</td>\n",
       "    </tr>\n",
       "    <tr>\n",
       "      <th>South Dakota</th>\n",
       "      <td>58.167742</td>\n",
       "      <td>41.843548</td>\n",
       "      <td>116.430813</td>\n",
       "      <td>1.682266</td>\n",
       "    </tr>\n",
       "    <tr>\n",
       "      <th>Idaho</th>\n",
       "      <td>60.497619</td>\n",
       "      <td>39.504762</td>\n",
       "      <td>262.011330</td>\n",
       "      <td>2.026817</td>\n",
       "    </tr>\n",
       "    <tr>\n",
       "      <th>Iowa</th>\n",
       "      <td>61.326596</td>\n",
       "      <td>38.669149</td>\n",
       "      <td>319.559007</td>\n",
       "      <td>7.279433</td>\n",
       "    </tr>\n",
       "    <tr>\n",
       "      <th>Nebraska</th>\n",
       "      <td>61.650000</td>\n",
       "      <td>38.352381</td>\n",
       "      <td>252.386349</td>\n",
       "      <td>3.382328</td>\n",
       "    </tr>\n",
       "    <tr>\n",
       "      <th>Oklahoma</th>\n",
       "      <td>61.682895</td>\n",
       "      <td>38.313158</td>\n",
       "      <td>355.606352</td>\n",
       "      <td>6.894386</td>\n",
       "    </tr>\n",
       "    <tr>\n",
       "      <th>Kansas</th>\n",
       "      <td>61.733010</td>\n",
       "      <td>38.267961</td>\n",
       "      <td>191.442060</td>\n",
       "      <td>2.925955</td>\n",
       "    </tr>\n",
       "    <tr>\n",
       "      <th>Minnesota</th>\n",
       "      <td>62.685526</td>\n",
       "      <td>37.302632</td>\n",
       "      <td>540.676450</td>\n",
       "      <td>18.785789</td>\n",
       "    </tr>\n",
       "    <tr>\n",
       "      <th>Tennessee</th>\n",
       "      <td>63.751064</td>\n",
       "      <td>36.255319</td>\n",
       "      <td>693.099291</td>\n",
       "      <td>8.053050</td>\n",
       "    </tr>\n",
       "    <tr>\n",
       "      <th>Ohio</th>\n",
       "      <td>65.690805</td>\n",
       "      <td>34.305747</td>\n",
       "      <td>757.048429</td>\n",
       "      <td>34.759540</td>\n",
       "    </tr>\n",
       "    <tr>\n",
       "      <th>Wisconsin</th>\n",
       "      <td>66.555224</td>\n",
       "      <td>33.450746</td>\n",
       "      <td>540.521592</td>\n",
       "      <td>12.106070</td>\n",
       "    </tr>\n",
       "    <tr>\n",
       "      <th>Arkansas</th>\n",
       "      <td>68.237500</td>\n",
       "      <td>31.762500</td>\n",
       "      <td>349.087531</td>\n",
       "      <td>4.438148</td>\n",
       "    </tr>\n",
       "    <tr>\n",
       "      <th>Indiana</th>\n",
       "      <td>68.561538</td>\n",
       "      <td>31.449451</td>\n",
       "      <td>571.833553</td>\n",
       "      <td>29.025641</td>\n",
       "    </tr>\n",
       "    <tr>\n",
       "      <th>Utah</th>\n",
       "      <td>68.688462</td>\n",
       "      <td>31.303846</td>\n",
       "      <td>728.345950</td>\n",
       "      <td>3.639487</td>\n",
       "    </tr>\n",
       "    <tr>\n",
       "      <th>Alabama</th>\n",
       "      <td>69.059091</td>\n",
       "      <td>30.933333</td>\n",
       "      <td>836.381818</td>\n",
       "      <td>17.663838</td>\n",
       "    </tr>\n",
       "    <tr>\n",
       "      <th>Kentucky</th>\n",
       "      <td>69.939167</td>\n",
       "      <td>30.055000</td>\n",
       "      <td>179.049251</td>\n",
       "      <td>5.332889</td>\n",
       "    </tr>\n",
       "    <tr>\n",
       "      <th>West Virginia</th>\n",
       "      <td>70.085455</td>\n",
       "      <td>29.920000</td>\n",
       "      <td>79.762808</td>\n",
       "      <td>1.858909</td>\n",
       "    </tr>\n",
       "    <tr>\n",
       "      <th>Georgia</th>\n",
       "      <td>71.316561</td>\n",
       "      <td>28.678981</td>\n",
       "      <td>701.213163</td>\n",
       "      <td>19.385223</td>\n",
       "    </tr>\n",
       "    <tr>\n",
       "      <th>South Carolina</th>\n",
       "      <td>72.308696</td>\n",
       "      <td>27.695652</td>\n",
       "      <td>1183.585797</td>\n",
       "      <td>24.050435</td>\n",
       "    </tr>\n",
       "    <tr>\n",
       "      <th>Louisiana</th>\n",
       "      <td>72.331111</td>\n",
       "      <td>27.673333</td>\n",
       "      <td>1332.169481</td>\n",
       "      <td>53.504000</td>\n",
       "    </tr>\n",
       "    <tr>\n",
       "      <th>Illinois</th>\n",
       "      <td>72.704082</td>\n",
       "      <td>27.295918</td>\n",
       "      <td>1555.140309</td>\n",
       "      <td>69.562313</td>\n",
       "    </tr>\n",
       "    <tr>\n",
       "      <th>Mississippi</th>\n",
       "      <td>72.926250</td>\n",
       "      <td>27.068750</td>\n",
       "      <td>471.645804</td>\n",
       "      <td>15.467128</td>\n",
       "    </tr>\n",
       "    <tr>\n",
       "      <th>Florida</th>\n",
       "      <td>77.461290</td>\n",
       "      <td>22.537097</td>\n",
       "      <td>3881.658065</td>\n",
       "      <td>64.692473</td>\n",
       "    </tr>\n",
       "    <tr>\n",
       "      <th>Texas</th>\n",
       "      <td>78.922222</td>\n",
       "      <td>21.075641</td>\n",
       "      <td>1064.532050</td>\n",
       "      <td>16.757926</td>\n",
       "    </tr>\n",
       "    <tr>\n",
       "      <th>Maine</th>\n",
       "      <td>79.362500</td>\n",
       "      <td>20.650000</td>\n",
       "      <td>211.614167</td>\n",
       "      <td>6.948333</td>\n",
       "    </tr>\n",
       "    <tr>\n",
       "      <th>Michigan</th>\n",
       "      <td>79.391026</td>\n",
       "      <td>20.611538</td>\n",
       "      <td>979.904039</td>\n",
       "      <td>79.086154</td>\n",
       "    </tr>\n",
       "    <tr>\n",
       "      <th>Vermont</th>\n",
       "      <td>79.423077</td>\n",
       "      <td>20.584615</td>\n",
       "      <td>96.582564</td>\n",
       "      <td>4.318974</td>\n",
       "    </tr>\n",
       "    <tr>\n",
       "      <th>Colorado</th>\n",
       "      <td>79.688889</td>\n",
       "      <td>20.320370</td>\n",
       "      <td>633.089795</td>\n",
       "      <td>29.473558</td>\n",
       "    </tr>\n",
       "    <tr>\n",
       "      <th>Arizona</th>\n",
       "      <td>79.853846</td>\n",
       "      <td>20.138462</td>\n",
       "      <td>8198.772308</td>\n",
       "      <td>179.758974</td>\n",
       "    </tr>\n",
       "    <tr>\n",
       "      <th>North Carolina</th>\n",
       "      <td>80.046465</td>\n",
       "      <td>19.953535</td>\n",
       "      <td>831.097508</td>\n",
       "      <td>15.632997</td>\n",
       "    </tr>\n",
       "    <tr>\n",
       "      <th>Virginia</th>\n",
       "      <td>80.637647</td>\n",
       "      <td>19.368235</td>\n",
       "      <td>503.226964</td>\n",
       "      <td>15.318827</td>\n",
       "    </tr>\n",
       "    <tr>\n",
       "      <th>New Hampshire</th>\n",
       "      <td>81.390000</td>\n",
       "      <td>18.620000</td>\n",
       "      <td>597.102667</td>\n",
       "      <td>37.149333</td>\n",
       "    </tr>\n",
       "    <tr>\n",
       "      <th>New Mexico</th>\n",
       "      <td>81.796154</td>\n",
       "      <td>18.215385</td>\n",
       "      <td>402.631213</td>\n",
       "      <td>13.708205</td>\n",
       "    </tr>\n",
       "    <tr>\n",
       "      <th>Nevada</th>\n",
       "      <td>82.128571</td>\n",
       "      <td>17.885714</td>\n",
       "      <td>2079.417927</td>\n",
       "      <td>44.803810</td>\n",
       "    </tr>\n",
       "    <tr>\n",
       "      <th>Oregon</th>\n",
       "      <td>82.941176</td>\n",
       "      <td>17.047059</td>\n",
       "      <td>355.275030</td>\n",
       "      <td>7.282353</td>\n",
       "    </tr>\n",
       "    <tr>\n",
       "      <th>Pennsylvania</th>\n",
       "      <td>84.262687</td>\n",
       "      <td>15.747761</td>\n",
       "      <td>1491.055920</td>\n",
       "      <td>101.599005</td>\n",
       "    </tr>\n",
       "    <tr>\n",
       "      <th>Washington</th>\n",
       "      <td>85.062857</td>\n",
       "      <td>14.905714</td>\n",
       "      <td>1219.985034</td>\n",
       "      <td>41.071619</td>\n",
       "    </tr>\n",
       "    <tr>\n",
       "      <th>California</th>\n",
       "      <td>86.645455</td>\n",
       "      <td>13.354545</td>\n",
       "      <td>2822.351414</td>\n",
       "      <td>47.295152</td>\n",
       "    </tr>\n",
       "    <tr>\n",
       "      <th>New Jersey</th>\n",
       "      <td>90.395000</td>\n",
       "      <td>9.595000</td>\n",
       "      <td>8717.715333</td>\n",
       "      <td>727.977333</td>\n",
       "    </tr>\n",
       "    <tr>\n",
       "      <th>New York</th>\n",
       "      <td>90.723214</td>\n",
       "      <td>9.262500</td>\n",
       "      <td>3244.660714</td>\n",
       "      <td>162.941905</td>\n",
       "    </tr>\n",
       "    <tr>\n",
       "      <th>Connecticut</th>\n",
       "      <td>90.800000</td>\n",
       "      <td>9.183333</td>\n",
       "      <td>5532.835556</td>\n",
       "      <td>523.942222</td>\n",
       "    </tr>\n",
       "    <tr>\n",
       "      <th>Maryland</th>\n",
       "      <td>91.015789</td>\n",
       "      <td>8.989474</td>\n",
       "      <td>2067.145263</td>\n",
       "      <td>99.649825</td>\n",
       "    </tr>\n",
       "    <tr>\n",
       "      <th>Delaware</th>\n",
       "      <td>91.050000</td>\n",
       "      <td>8.950000</td>\n",
       "      <td>3450.306667</td>\n",
       "      <td>132.833333</td>\n",
       "    </tr>\n",
       "    <tr>\n",
       "      <th>Massachusetts</th>\n",
       "      <td>92.842857</td>\n",
       "      <td>7.142857</td>\n",
       "      <td>7948.040000</td>\n",
       "      <td>582.334286</td>\n",
       "    </tr>\n",
       "    <tr>\n",
       "      <th>Hawaii</th>\n",
       "      <td>92.980000</td>\n",
       "      <td>7.000000</td>\n",
       "      <td>321.056000</td>\n",
       "      <td>4.360000</td>\n",
       "    </tr>\n",
       "    <tr>\n",
       "      <th>Rhode Island</th>\n",
       "      <td>93.800000</td>\n",
       "      <td>6.180000</td>\n",
       "      <td>3146.072000</td>\n",
       "      <td>180.829333</td>\n",
       "    </tr>\n",
       "  </tbody>\n",
       "</table>\n",
       "</div>"
      ],
      "text/plain": [
       "                mask_wearer  non_wearer  covid_cases  covid_deaths\n",
       "state                                                             \n",
       "North Dakota      50.907843   49.090196    82.981837      1.650196\n",
       "Montana           52.532609   47.463043    43.033351      0.669810\n",
       "Wyoming           56.823810   43.185714    88.164444      1.057143\n",
       "Missouri          57.709346   42.289720   131.670859      2.085625\n",
       "South Dakota      58.167742   41.843548   116.430813      1.682266\n",
       "Idaho             60.497619   39.504762   262.011330      2.026817\n",
       "Iowa              61.326596   38.669149   319.559007      7.279433\n",
       "Nebraska          61.650000   38.352381   252.386349      3.382328\n",
       "Oklahoma          61.682895   38.313158   355.606352      6.894386\n",
       "Kansas            61.733010   38.267961   191.442060      2.925955\n",
       "Minnesota         62.685526   37.302632   540.676450     18.785789\n",
       "Tennessee         63.751064   36.255319   693.099291      8.053050\n",
       "Ohio              65.690805   34.305747   757.048429     34.759540\n",
       "Wisconsin         66.555224   33.450746   540.521592     12.106070\n",
       "Arkansas          68.237500   31.762500   349.087531      4.438148\n",
       "Indiana           68.561538   31.449451   571.833553     29.025641\n",
       "Utah              68.688462   31.303846   728.345950      3.639487\n",
       "Alabama           69.059091   30.933333   836.381818     17.663838\n",
       "Kentucky          69.939167   30.055000   179.049251      5.332889\n",
       "West Virginia     70.085455   29.920000    79.762808      1.858909\n",
       "Georgia           71.316561   28.678981   701.213163     19.385223\n",
       "South Carolina    72.308696   27.695652  1183.585797     24.050435\n",
       "Louisiana         72.331111   27.673333  1332.169481     53.504000\n",
       "Illinois          72.704082   27.295918  1555.140309     69.562313\n",
       "Mississippi       72.926250   27.068750   471.645804     15.467128\n",
       "Florida           77.461290   22.537097  3881.658065     64.692473\n",
       "Texas             78.922222   21.075641  1064.532050     16.757926\n",
       "Maine             79.362500   20.650000   211.614167      6.948333\n",
       "Michigan          79.391026   20.611538   979.904039     79.086154\n",
       "Vermont           79.423077   20.584615    96.582564      4.318974\n",
       "Colorado          79.688889   20.320370   633.089795     29.473558\n",
       "Arizona           79.853846   20.138462  8198.772308    179.758974\n",
       "North Carolina    80.046465   19.953535   831.097508     15.632997\n",
       "Virginia          80.637647   19.368235   503.226964     15.318827\n",
       "New Hampshire     81.390000   18.620000   597.102667     37.149333\n",
       "New Mexico        81.796154   18.215385   402.631213     13.708205\n",
       "Nevada            82.128571   17.885714  2079.417927     44.803810\n",
       "Oregon            82.941176   17.047059   355.275030      7.282353\n",
       "Pennsylvania      84.262687   15.747761  1491.055920    101.599005\n",
       "Washington        85.062857   14.905714  1219.985034     41.071619\n",
       "California        86.645455   13.354545  2822.351414     47.295152\n",
       "New Jersey        90.395000    9.595000  8717.715333    727.977333\n",
       "New York          90.723214    9.262500  3244.660714    162.941905\n",
       "Connecticut       90.800000    9.183333  5532.835556    523.942222\n",
       "Maryland          91.015789    8.989474  2067.145263     99.649825\n",
       "Delaware          91.050000    8.950000  3450.306667    132.833333\n",
       "Massachusetts     92.842857    7.142857  7948.040000    582.334286\n",
       "Hawaii            92.980000    7.000000   321.056000      4.360000\n",
       "Rhode Island      93.800000    6.180000  3146.072000    180.829333"
      ]
     },
     "execution_count": 5,
     "metadata": {},
     "output_type": "execute_result"
    }
   ],
   "source": [
    "df_county.groupby('state').mean()[['mask_wearer','non_wearer','covid_cases','covid_deaths']].sort_values('mask_wearer')"
   ]
  },
  {
   "cell_type": "code",
   "execution_count": 6,
   "metadata": {},
   "outputs": [
    {
     "name": "stdout",
     "output_type": "stream",
     "text": [
      "<class 'pandas.core.frame.DataFrame'>\n",
      "RangeIndex: 3121 entries, 0 to 3120\n",
      "Data columns (total 28 columns):\n",
      " #   Column               Non-Null Count  Dtype  \n",
      "---  ------               --------------  -----  \n",
      " 0   fips                 3121 non-null   float64\n",
      " 1   covid_cases          3121 non-null   float64\n",
      " 2   covid_deaths         3121 non-null   float64\n",
      " 3   mask_never           3121 non-null   float64\n",
      " 4   mask_rarely          3121 non-null   float64\n",
      " 5   mask_sometimes       3121 non-null   float64\n",
      " 6   mask_frequently      3121 non-null   float64\n",
      " 7   mask_always          3121 non-null   float64\n",
      " 8   state                2877 non-null   object \n",
      " 9   county               2877 non-null   object \n",
      " 10  sumlev               2877 non-null   float64\n",
      " 11  region_fip           2877 non-null   float64\n",
      " 12  division_fip         2877 non-null   float64\n",
      " 13  pop                  2877 non-null   float64\n",
      " 14  births               2877 non-null   float64\n",
      " 15  intnl_migration      2877 non-null   float64\n",
      " 16  domestic_migration   2877 non-null   float64\n",
      " 17  birth_rate           2877 non-null   float64\n",
      " 18  death_rate           2877 non-null   float64\n",
      " 19  region               2877 non-null   object \n",
      " 20  division             2877 non-null   object \n",
      " 21  area_type            2877 non-null   object \n",
      " 22  cases_per_million    2877 non-null   float64\n",
      " 23  cases_per_hthousand  2877 non-null   float64\n",
      " 24  cases_per_thousand   2877 non-null   float64\n",
      " 25  cases_per_hundred    2877 non-null   float64\n",
      " 26  mask_wearer          3121 non-null   float64\n",
      " 27  non_wearer           3121 non-null   float64\n",
      "dtypes: float64(23), object(5)\n",
      "memory usage: 682.8+ KB\n"
     ]
    }
   ],
   "source": [
    "df_county.info()"
   ]
  },
  {
   "cell_type": "code",
   "execution_count": 7,
   "metadata": {},
   "outputs": [
    {
     "data": {
      "text/plain": [
       "Text(0.5, 1.0, 'Mean of total covid cases')"
      ]
     },
     "execution_count": 7,
     "metadata": {},
     "output_type": "execute_result"
    },
    {
     "data": {
      "image/png": "[encoded data removed]",
      "text/plain": [
       "<Figure size 432x288 with 1 Axes>"
      ]
     },
     "metadata": {
      "needs_background": "light"
     },
     "output_type": "display_data"
    }
   ],
   "source": [
    "sns.barplot(x='region',y='covid_cases',data=df_county, order=['northeast','midwest','south','west'])\n",
    "plt.title('Mean of total covid cases')"
   ]
  },
  {
   "cell_type": "code",
   "execution_count": 8,
   "metadata": {},
   "outputs": [
    {
     "data": {
      "text/plain": [
       "Text(0.5, 1.0, 'Mean of total covid cases per thousand')"
      ]
     },
     "execution_count": 8,
     "metadata": {},
     "output_type": "execute_result"
    },
    {
     "data": {
      "image/png": "[encoded data removed]",
      "text/plain": [
       "<Figure size 432x288 with 1 Axes>"
      ]
     },
     "metadata": {
      "needs_background": "light"
     },
     "output_type": "display_data"
    }
   ],
   "source": [
    "sns.barplot(x='region',y='cases_per_thousand',data=df_county, order=['northeast','midwest','south','west'])\n",
    "plt.title('Mean of total covid cases per thousand')"
   ]
  },
  {
   "cell_type": "markdown",
   "metadata": {},
   "source": [
    "## State Mask Use"
   ]
  },
  {
   "cell_type": "code",
   "execution_count": 9,
   "metadata": {},
   "outputs": [],
   "source": [
    "cols = ['fips', 'sumlev', 'region', 'division', 'state_x', 'total_area_sqmi',\n",
    "       'total_area_sqkm', 'land_area_sqmi', 'land_area_sqkm',\n",
    "       'total_water_area_sqmi', 'total_water_area_sqkm',\n",
    "       'inland_water_area_sqmi', 'inland_water_area_sqkm',\n",
    "       'coastal_water_area_sqmi', 'coastal_water_area_sqkm',\n",
    "       'great_lakes_water_area_sqmi', 'great_lakes_water_area_sqkm',\n",
    "       'territorial_water_area_sqmi', 'territorial_water_area_sqkm',\n",
    "       'latitude', 'longitude', 'cases_per_million',\n",
    "       'cases_per_hthousand', 'cases_per_thousand', 'cases_per_hundred']"
   ]
  },
  {
   "cell_type": "code",
   "execution_count": 10,
   "metadata": {},
   "outputs": [],
   "source": [
    "# Format all columns\n",
    "for col in cols:\n",
    "    df_state[col] = df_state[col].astype(str)\n",
    "    df_state[col] = df_state[col].str.replace(',','')\n",
    "    df_state[col] = df_state[col].str.replace('None','NaN')\n",
    "    df_state[col] = df_state[col].astype(float)"
   ]
  },
  {
   "cell_type": "code",
   "execution_count": 11,
   "metadata": {},
   "outputs": [],
   "source": [
    "df_state['pop_density'] = df_state['popestimate2019']/df_state['land_area_sqmi']\n",
    "df_state['covid_per_density'] = df_state['covid_cases']/df_state['pop_density']"
   ]
  },
  {
   "cell_type": "code",
   "execution_count": 12,
   "metadata": {},
   "outputs": [],
   "source": [
    "df_state['covid_per_sqmi'] = df_state['covid_cases']/df_state['land_area_sqmi']"
   ]
  },
  {
   "cell_type": "code",
   "execution_count": 13,
   "metadata": {},
   "outputs": [],
   "source": [
    "df_graph = df_state[(df_state['name']=='Ohio')|\n",
    "              (df_state['name']=='New Hampshire')|\n",
    "              (df_state['name']=='Texas')|\n",
    "              (df_state['name']=='Massachusetts')|\n",
    "              (df_state['name']=='California')|\n",
    "              (df_state['name']=='Florida')]"
   ]
  },
  {
   "cell_type": "code",
   "execution_count": 14,
   "metadata": {},
   "outputs": [
    {
     "data": {
      "image/png": "[encoded data removed]",
      "text/plain": [
       "<Figure size 432x288 with 1 Axes>"
      ]
     },
     "metadata": {
      "needs_background": "light"
     },
     "output_type": "display_data"
    }
   ],
   "source": [
    "ax = sns.barplot(x='name',y='covid_per_density',data=df_state.sort_values('covid_per_density', ascending=False))\n",
    "plt.xlabel('State')\n",
    "plt.ylabel('Cases')\n",
    "plt.title('Total cases per population density')\n",
    "plt.xticks(rotation=45, horizontalalignment='right',)\n",
    "plt.hlines(df_state['covid_per_density'].mean(),-0.5,52.5,linestyles=':',color='red',label='National Average')\n",
    "plt.legend()\n",
    "\n",
    "ax.tick_params(axis = 'both', which = 'major', labelsize = 6)\n",
    "ax.tick_params(axis = 'both', which = 'minor', labelsize = 6)\n",
    "\n",
    "# plt.savefig('exports/all_states_avg.png',dpi=300, bbox_inches='tight')"
   ]
  },
  {
   "cell_type": "code",
   "execution_count": 15,
   "metadata": {},
   "outputs": [
    {
     "data": {
      "text/plain": [
       "(array([0, 1, 2, 3, 4, 5]),\n",
       " [Text(0, 0, 'California'),\n",
       "  Text(1, 0, 'Florida'),\n",
       "  Text(2, 0, 'Massachusetts'),\n",
       "  Text(3, 0, 'New Hampshire'),\n",
       "  Text(4, 0, 'Ohio'),\n",
       "  Text(5, 0, 'Texas')])"
      ]
     },
     "execution_count": 15,
     "metadata": {},
     "output_type": "execute_result"
    },
    {
     "data": {
      "image/png": "[encoded data removed]",
      "text/plain": [
       "<Figure size 432x288 with 1 Axes>"
      ]
     },
     "metadata": {
      "needs_background": "light"
     },
     "output_type": "display_data"
    }
   ],
   "source": [
    "sns.barplot(x='name',y='covid_per_sqmi',data=df_graph)\n",
    "plt.xlabel('State')\n",
    "plt.ylabel('Cases')\n",
    "plt.title('Total cases per Square mile')\n",
    "plt.xticks(rotation=45, horizontalalignment='right')"
   ]
  },
  {
   "cell_type": "code",
   "execution_count": 16,
   "metadata": {},
   "outputs": [
    {
     "data": {
      "text/html": [
       "<div>\n",
       "<style scoped>\n",
       "    .dataframe tbody tr th:only-of-type {\n",
       "        vertical-align: middle;\n",
       "    }\n",
       "\n",
       "    .dataframe tbody tr th {\n",
       "        vertical-align: top;\n",
       "    }\n",
       "\n",
       "    .dataframe thead th {\n",
       "        text-align: right;\n",
       "    }\n",
       "</style>\n",
       "<table border=\"1\" class=\"dataframe\">\n",
       "  <thead>\n",
       "    <tr style=\"text-align: right;\">\n",
       "      <th></th>\n",
       "      <th>cases_per_million</th>\n",
       "    </tr>\n",
       "  </thead>\n",
       "  <tbody>\n",
       "    <tr>\n",
       "      <th>count</th>\n",
       "      <td>52.000000</td>\n",
       "    </tr>\n",
       "    <tr>\n",
       "      <th>mean</th>\n",
       "      <td>8736.378138</td>\n",
       "    </tr>\n",
       "    <tr>\n",
       "      <th>std</th>\n",
       "      <td>4675.857716</td>\n",
       "    </tr>\n",
       "    <tr>\n",
       "      <th>min</th>\n",
       "      <td>1054.185763</td>\n",
       "    </tr>\n",
       "    <tr>\n",
       "      <th>25%</th>\n",
       "      <td>5580.525050</td>\n",
       "    </tr>\n",
       "    <tr>\n",
       "      <th>50%</th>\n",
       "      <td>8131.808681</td>\n",
       "    </tr>\n",
       "    <tr>\n",
       "      <th>75%</th>\n",
       "      <td>11563.160132</td>\n",
       "    </tr>\n",
       "    <tr>\n",
       "      <th>max</th>\n",
       "      <td>20778.777239</td>\n",
       "    </tr>\n",
       "  </tbody>\n",
       "</table>\n",
       "</div>"
      ],
      "text/plain": [
       "       cases_per_million\n",
       "count          52.000000\n",
       "mean         8736.378138\n",
       "std          4675.857716\n",
       "min          1054.185763\n",
       "25%          5580.525050\n",
       "50%          8131.808681\n",
       "75%         11563.160132\n",
       "max         20778.777239"
      ]
     },
     "execution_count": 16,
     "metadata": {},
     "output_type": "execute_result"
    }
   ],
   "source": [
    "df_state.describe()[['cases_per_million']]"
   ]
  },
  {
   "cell_type": "code",
   "execution_count": 17,
   "metadata": {},
   "outputs": [
    {
     "data": {
      "text/plain": [
       "<AxesSubplot:xlabel='cases_per_million'>"
      ]
     },
     "execution_count": 17,
     "metadata": {},
     "output_type": "execute_result"
    },
    {
     "data": {
      "image/png": "[encoded data removed]",
      "text/plain": [
       "<Figure size 432x288 with 1 Axes>"
      ]
     },
     "metadata": {
      "needs_background": "light"
     },
     "output_type": "display_data"
    }
   ],
   "source": [
    "sns.boxplot(df_state['cases_per_million'])"
   ]
  },
  {
   "cell_type": "markdown",
   "metadata": {},
   "source": [
    "The populations of each state differ, but the raw numbers are hard to interpret. For this reason each state is categorized into size.\n",
    "\n",
    "Based on this boxplot the following seems reasonable:\n",
    "* `small`: less than 2 million\n",
    "* `medium`: 2 million - 10 million\n",
    "* `large`: greater than 10 million"
   ]
  },
  {
   "cell_type": "code",
   "execution_count": 18,
   "metadata": {},
   "outputs": [],
   "source": [
    "def pop_size_cat(cell):\n",
    "    '''\n",
    "    Categorizes each state by their size\n",
    "    '''\n",
    "    if pd.isnull(cell):\n",
    "        return 'no data'\n",
    "    elif cell < 2000000:\n",
    "        return 'small'\n",
    "    elif cell > 10000000:\n",
    "        return 'large'\n",
    "    elif (cell > 2000000) & (cell < 10000000):\n",
    "        return 'medium'\n",
    "    else:\n",
    "        return 'no data'"
   ]
  },
  {
   "cell_type": "code",
   "execution_count": 19,
   "metadata": {},
   "outputs": [],
   "source": [
    "df_state['pop_size'] = df_state['popestimate2019'].apply(pop_size_cat)"
   ]
  },
  {
   "cell_type": "code",
   "execution_count": 20,
   "metadata": {},
   "outputs": [],
   "source": [
    "df_state['pop_in_mill'] = df_state['popestimate2019']/1000000"
   ]
  },
  {
   "cell_type": "code",
   "execution_count": 21,
   "metadata": {},
   "outputs": [
    {
     "data": {
      "text/html": [
       "<div>\n",
       "<style scoped>\n",
       "    .dataframe tbody tr th:only-of-type {\n",
       "        vertical-align: middle;\n",
       "    }\n",
       "\n",
       "    .dataframe tbody tr th {\n",
       "        vertical-align: top;\n",
       "    }\n",
       "\n",
       "    .dataframe thead th {\n",
       "        text-align: right;\n",
       "    }\n",
       "</style>\n",
       "<table border=\"1\" class=\"dataframe\">\n",
       "  <thead>\n",
       "    <tr style=\"text-align: right;\">\n",
       "      <th></th>\n",
       "      <th>pop_in_mill</th>\n",
       "      <th>cases_per_million</th>\n",
       "    </tr>\n",
       "    <tr>\n",
       "      <th>pop_size</th>\n",
       "      <th></th>\n",
       "      <th></th>\n",
       "    </tr>\n",
       "  </thead>\n",
       "  <tbody>\n",
       "    <tr>\n",
       "      <th>large</th>\n",
       "      <td>18.634202</td>\n",
       "      <td>10523.479851</td>\n",
       "    </tr>\n",
       "    <tr>\n",
       "      <th>medium</th>\n",
       "      <td>5.239404</td>\n",
       "      <td>9363.504635</td>\n",
       "    </tr>\n",
       "    <tr>\n",
       "      <th>small</th>\n",
       "      <td>1.134805</td>\n",
       "      <td>6493.480982</td>\n",
       "    </tr>\n",
       "  </tbody>\n",
       "</table>\n",
       "</div>"
      ],
      "text/plain": [
       "          pop_in_mill  cases_per_million\n",
       "pop_size                                \n",
       "large       18.634202       10523.479851\n",
       "medium       5.239404        9363.504635\n",
       "small        1.134805        6493.480982"
      ]
     },
     "execution_count": 21,
     "metadata": {},
     "output_type": "execute_result"
    }
   ],
   "source": [
    "df_state.groupby('pop_size').mean()[['pop_in_mill','cases_per_million']]"
   ]
  },
  {
   "cell_type": "code",
   "execution_count": 22,
   "metadata": {},
   "outputs": [],
   "source": [
    "state_order = ['small','medium','large']"
   ]
  },
  {
   "cell_type": "code",
   "execution_count": 23,
   "metadata": {},
   "outputs": [
    {
     "data": {
      "text/plain": [
       "Text(0, 0.5, 'Total Cases')"
      ]
     },
     "execution_count": 23,
     "metadata": {},
     "output_type": "execute_result"
    },
    {
     "data": {
      "image/png": "[encoded data removed]",
      "text/plain": [
       "<Figure size 432x288 with 1 Axes>"
      ]
     },
     "metadata": {
      "needs_background": "light"
     },
     "output_type": "display_data"
    }
   ],
   "source": [
    "g = sns.barplot(x='pop_in_mill',y='cases_per_million',hue='pop_size',data=df_state,hue_order=state_order)\n",
    "#plt.hlines(df_state['non_wearer'].mean(),-0.5,3.5,linestyles='--',color='red',label='National Average')\n",
    "g.legend(bbox_to_anchor=(1,1),title='Pop Size')\n",
    "plt.title('What state pop size has the most case?')\n",
    "plt.xlabel('Population (million)')\n",
    "plt.ylabel('Total Cases')"
   ]
  },
  {
   "cell_type": "code",
   "execution_count": 24,
   "metadata": {},
   "outputs": [
    {
     "ename": "ValueError",
     "evalue": "Could not interpret input 'date'",
     "output_type": "error",
     "traceback": [
      "\u001b[0;31m---------------------------------------------------------------------------\u001b[0m",
      "\u001b[0;31mValueError\u001b[0m                                Traceback (most recent call last)",
      "\u001b[0;32m<ipython-input-24-daef5847b6fb>\u001b[0m in \u001b[0;36m<module>\u001b[0;34m\u001b[0m\n\u001b[0;32m----> 1\u001b[0;31m \u001b[0mg\u001b[0m \u001b[0;34m=\u001b[0m \u001b[0msns\u001b[0m\u001b[0;34m.\u001b[0m\u001b[0mlineplot\u001b[0m\u001b[0;34m(\u001b[0m\u001b[0mx\u001b[0m\u001b[0;34m=\u001b[0m\u001b[0;34m'date'\u001b[0m\u001b[0;34m,\u001b[0m\u001b[0my\u001b[0m\u001b[0;34m=\u001b[0m\u001b[0;34m'cases_per_million'\u001b[0m\u001b[0;34m,\u001b[0m\u001b[0mhue\u001b[0m\u001b[0;34m=\u001b[0m\u001b[0;34m'pop_size'\u001b[0m\u001b[0;34m,\u001b[0m\u001b[0mdata\u001b[0m\u001b[0;34m=\u001b[0m\u001b[0mdf_state\u001b[0m\u001b[0;34m,\u001b[0m \u001b[0mhue_order\u001b[0m \u001b[0;34m=\u001b[0m \u001b[0mstate_order\u001b[0m\u001b[0;34m)\u001b[0m\u001b[0;34m\u001b[0m\u001b[0;34m\u001b[0m\u001b[0m\n\u001b[0m\u001b[1;32m      2\u001b[0m \u001b[0mplt\u001b[0m\u001b[0;34m.\u001b[0m\u001b[0mtitle\u001b[0m\u001b[0;34m(\u001b[0m\u001b[0;34m\"Cases by State's Population Size\"\u001b[0m\u001b[0;34m)\u001b[0m\u001b[0;34m\u001b[0m\u001b[0;34m\u001b[0m\u001b[0m\n\u001b[1;32m      3\u001b[0m \u001b[0mplt\u001b[0m\u001b[0;34m.\u001b[0m\u001b[0mxlabel\u001b[0m\u001b[0;34m(\u001b[0m\u001b[0;34m'Date'\u001b[0m\u001b[0;34m)\u001b[0m\u001b[0;34m\u001b[0m\u001b[0;34m\u001b[0m\u001b[0m\n\u001b[1;32m      4\u001b[0m \u001b[0mplt\u001b[0m\u001b[0;34m.\u001b[0m\u001b[0mylabel\u001b[0m\u001b[0;34m(\u001b[0m\u001b[0;34m'Cases per Million'\u001b[0m\u001b[0;34m)\u001b[0m\u001b[0;34m\u001b[0m\u001b[0;34m\u001b[0m\u001b[0m\n\u001b[1;32m      5\u001b[0m \u001b[0mhandles\u001b[0m\u001b[0;34m,\u001b[0m \u001b[0mlabels\u001b[0m \u001b[0;34m=\u001b[0m \u001b[0mg\u001b[0m\u001b[0;34m.\u001b[0m\u001b[0mget_legend_handles_labels\u001b[0m\u001b[0;34m(\u001b[0m\u001b[0;34m)\u001b[0m\u001b[0;34m\u001b[0m\u001b[0;34m\u001b[0m\u001b[0m\n",
      "\u001b[0;32m~/.conda/envs/data_env/lib/python3.6/site-packages/seaborn/relational.py\u001b[0m in \u001b[0;36mlineplot\u001b[0;34m(x, y, hue, size, style, data, palette, hue_order, hue_norm, sizes, size_order, size_norm, dashes, markers, style_order, units, estimator, ci, n_boot, seed, sort, err_style, err_kws, legend, ax, **kwargs)\u001b[0m\n\u001b[1;32m   1124\u001b[0m         \u001b[0mdashes\u001b[0m\u001b[0;34m=\u001b[0m\u001b[0mdashes\u001b[0m\u001b[0;34m,\u001b[0m \u001b[0mmarkers\u001b[0m\u001b[0;34m=\u001b[0m\u001b[0mmarkers\u001b[0m\u001b[0;34m,\u001b[0m \u001b[0mstyle_order\u001b[0m\u001b[0;34m=\u001b[0m\u001b[0mstyle_order\u001b[0m\u001b[0;34m,\u001b[0m\u001b[0;34m\u001b[0m\u001b[0;34m\u001b[0m\u001b[0m\n\u001b[1;32m   1125\u001b[0m         \u001b[0munits\u001b[0m\u001b[0;34m=\u001b[0m\u001b[0munits\u001b[0m\u001b[0;34m,\u001b[0m \u001b[0mestimator\u001b[0m\u001b[0;34m=\u001b[0m\u001b[0mestimator\u001b[0m\u001b[0;34m,\u001b[0m \u001b[0mci\u001b[0m\u001b[0;34m=\u001b[0m\u001b[0mci\u001b[0m\u001b[0;34m,\u001b[0m \u001b[0mn_boot\u001b[0m\u001b[0;34m=\u001b[0m\u001b[0mn_boot\u001b[0m\u001b[0;34m,\u001b[0m \u001b[0mseed\u001b[0m\u001b[0;34m=\u001b[0m\u001b[0mseed\u001b[0m\u001b[0;34m,\u001b[0m\u001b[0;34m\u001b[0m\u001b[0;34m\u001b[0m\u001b[0m\n\u001b[0;32m-> 1126\u001b[0;31m         \u001b[0msort\u001b[0m\u001b[0;34m=\u001b[0m\u001b[0msort\u001b[0m\u001b[0;34m,\u001b[0m \u001b[0merr_style\u001b[0m\u001b[0;34m=\u001b[0m\u001b[0merr_style\u001b[0m\u001b[0;34m,\u001b[0m \u001b[0merr_kws\u001b[0m\u001b[0;34m=\u001b[0m\u001b[0merr_kws\u001b[0m\u001b[0;34m,\u001b[0m \u001b[0mlegend\u001b[0m\u001b[0;34m=\u001b[0m\u001b[0mlegend\u001b[0m\u001b[0;34m,\u001b[0m\u001b[0;34m\u001b[0m\u001b[0;34m\u001b[0m\u001b[0m\n\u001b[0m\u001b[1;32m   1127\u001b[0m     )\n\u001b[1;32m   1128\u001b[0m \u001b[0;34m\u001b[0m\u001b[0m\n",
      "\u001b[0;32m~/.conda/envs/data_env/lib/python3.6/site-packages/seaborn/relational.py\u001b[0m in \u001b[0;36m__init__\u001b[0;34m(self, x, y, hue, size, style, data, palette, hue_order, hue_norm, sizes, size_order, size_norm, dashes, markers, style_order, units, estimator, ci, n_boot, seed, sort, err_style, err_kws, legend)\u001b[0m\n\u001b[1;32m    693\u001b[0m \u001b[0;34m\u001b[0m\u001b[0m\n\u001b[1;32m    694\u001b[0m         plot_data = self.establish_variables(\n\u001b[0;32m--> 695\u001b[0;31m             \u001b[0mx\u001b[0m\u001b[0;34m,\u001b[0m \u001b[0my\u001b[0m\u001b[0;34m,\u001b[0m \u001b[0mhue\u001b[0m\u001b[0;34m,\u001b[0m \u001b[0msize\u001b[0m\u001b[0;34m,\u001b[0m \u001b[0mstyle\u001b[0m\u001b[0;34m,\u001b[0m \u001b[0munits\u001b[0m\u001b[0;34m,\u001b[0m \u001b[0mdata\u001b[0m\u001b[0;34m\u001b[0m\u001b[0;34m\u001b[0m\u001b[0m\n\u001b[0m\u001b[1;32m    696\u001b[0m         )\n\u001b[1;32m    697\u001b[0m \u001b[0;34m\u001b[0m\u001b[0m\n",
      "\u001b[0;32m~/.conda/envs/data_env/lib/python3.6/site-packages/seaborn/relational.py\u001b[0m in \u001b[0;36mestablish_variables\u001b[0;34m(self, x, y, hue, size, style, units, data)\u001b[0m\n\u001b[1;32m    135\u001b[0m                 \u001b[0;32mif\u001b[0m \u001b[0misinstance\u001b[0m\u001b[0;34m(\u001b[0m\u001b[0mvar\u001b[0m\u001b[0;34m,\u001b[0m \u001b[0mstr\u001b[0m\u001b[0;34m)\u001b[0m\u001b[0;34m:\u001b[0m\u001b[0;34m\u001b[0m\u001b[0;34m\u001b[0m\u001b[0m\n\u001b[1;32m    136\u001b[0m                     \u001b[0merr\u001b[0m \u001b[0;34m=\u001b[0m \u001b[0;34m\"Could not interpret input '{}'\"\u001b[0m\u001b[0;34m.\u001b[0m\u001b[0mformat\u001b[0m\u001b[0;34m(\u001b[0m\u001b[0mvar\u001b[0m\u001b[0;34m)\u001b[0m\u001b[0;34m\u001b[0m\u001b[0;34m\u001b[0m\u001b[0m\n\u001b[0;32m--> 137\u001b[0;31m                     \u001b[0;32mraise\u001b[0m \u001b[0mValueError\u001b[0m\u001b[0;34m(\u001b[0m\u001b[0merr\u001b[0m\u001b[0;34m)\u001b[0m\u001b[0;34m\u001b[0m\u001b[0;34m\u001b[0m\u001b[0m\n\u001b[0m\u001b[1;32m    138\u001b[0m \u001b[0;34m\u001b[0m\u001b[0m\n\u001b[1;32m    139\u001b[0m             \u001b[0;31m# Extract variable names\u001b[0m\u001b[0;34m\u001b[0m\u001b[0;34m\u001b[0m\u001b[0;34m\u001b[0m\u001b[0m\n",
      "\u001b[0;31mValueError\u001b[0m: Could not interpret input 'date'"
     ]
    }
   ],
   "source": [
    "g = sns.lineplot(x='date',y='cases_per_million',hue='pop_size',data=df_state, hue_order = state_order)\n",
    "plt.title(\"Cases by State's Population Size\")\n",
    "plt.xlabel('Date')\n",
    "plt.ylabel('Cases per Million')\n",
    "handles, labels = g.get_legend_handles_labels()\n",
    "g.legend(bbox_to_anchor=(1,1),title='Pop Size',handles=handles[1:], labels=labels[1:])\n",
    "# plt.savefig('cases_per_pop.png',dpi=300,bbox_layout='tight')"
   ]
  },
  {
   "cell_type": "markdown",
   "metadata": {},
   "source": [
    "# Influence of Mask Mandates"
   ]
  },
  {
   "cell_type": "markdown",
   "metadata": {},
   "source": [
    "* [Source 1](https://www.aarp.org/health/healthy-living/info-2020/states-mask-mandates-coronavirus.html)\n",
    "* [Source 2](https://www.cnn.com/2020/06/19/us/states-face-mask-coronavirus-trnd/index.html)\n",
    "\n",
    "Dataset collected from above sources. In situations when the date was different, the earliest date was taken. `Type` includes tags for description of mandate currently in effect."
   ]
  },
  {
   "cell_type": "code",
   "execution_count": 28,
   "metadata": {},
   "outputs": [],
   "source": [
    "df_mand = pd.read_excel('data/added_data/mask_mandates.xlsx',skiprows=2)\n",
    "df_mand.columns = df_mand.columns.str.lower()"
   ]
  },
  {
   "cell_type": "code",
   "execution_count": 29,
   "metadata": {},
   "outputs": [],
   "source": [
    "df_mand['type'] = df_mand['type'].str.lower()\n",
    "df_mand['type_split'] = df_mand['type'].str.split(',')"
   ]
  },
  {
   "cell_type": "code",
   "execution_count": 30,
   "metadata": {},
   "outputs": [
    {
     "data": {
      "text/html": [
       "<div>\n",
       "<style scoped>\n",
       "    .dataframe tbody tr th:only-of-type {\n",
       "        vertical-align: middle;\n",
       "    }\n",
       "\n",
       "    .dataframe tbody tr th {\n",
       "        vertical-align: top;\n",
       "    }\n",
       "\n",
       "    .dataframe thead th {\n",
       "        text-align: right;\n",
       "    }\n",
       "</style>\n",
       "<table border=\"1\" class=\"dataframe\">\n",
       "  <thead>\n",
       "    <tr style=\"text-align: right;\">\n",
       "      <th></th>\n",
       "      <th>state</th>\n",
       "      <th>mandate</th>\n",
       "      <th>date</th>\n",
       "      <th>type</th>\n",
       "      <th>type_split</th>\n",
       "    </tr>\n",
       "  </thead>\n",
       "  <tbody>\n",
       "    <tr>\n",
       "      <th>0</th>\n",
       "      <td>Alabama</td>\n",
       "      <td>Yes</td>\n",
       "      <td>2020-07-16</td>\n",
       "      <td>indoor and outdoor</td>\n",
       "      <td>[indoor and outdoor]</td>\n",
       "    </tr>\n",
       "    <tr>\n",
       "      <th>1</th>\n",
       "      <td>Alaska</td>\n",
       "      <td>No</td>\n",
       "      <td>NaT</td>\n",
       "      <td>NaN</td>\n",
       "      <td>NaN</td>\n",
       "    </tr>\n",
       "    <tr>\n",
       "      <th>2</th>\n",
       "      <td>Arizona</td>\n",
       "      <td>No</td>\n",
       "      <td>NaT</td>\n",
       "      <td>NaN</td>\n",
       "      <td>NaN</td>\n",
       "    </tr>\n",
       "    <tr>\n",
       "      <th>3</th>\n",
       "      <td>Arkansas</td>\n",
       "      <td>Yes</td>\n",
       "      <td>2020-07-20</td>\n",
       "      <td>children exempt</td>\n",
       "      <td>[children exempt]</td>\n",
       "    </tr>\n",
       "    <tr>\n",
       "      <th>4</th>\n",
       "      <td>California</td>\n",
       "      <td>Yes</td>\n",
       "      <td>2020-06-18</td>\n",
       "      <td>toddlers exempt</td>\n",
       "      <td>[toddlers exempt]</td>\n",
       "    </tr>\n",
       "  </tbody>\n",
       "</table>\n",
       "</div>"
      ],
      "text/plain": [
       "        state mandate       date                type            type_split\n",
       "0     Alabama     Yes 2020-07-16  indoor and outdoor  [indoor and outdoor]\n",
       "1      Alaska      No        NaT                 NaN                   NaN\n",
       "2     Arizona      No        NaT                 NaN                   NaN\n",
       "3    Arkansas     Yes 2020-07-20     children exempt     [children exempt]\n",
       "4  California     Yes 2020-06-18     toddlers exempt     [toddlers exempt]"
      ]
     },
     "execution_count": 30,
     "metadata": {},
     "output_type": "execute_result"
    }
   ],
   "source": [
    "df_mand.head()"
   ]
  },
  {
   "cell_type": "code",
   "execution_count": 33,
   "metadata": {},
   "outputs": [
    {
     "ename": "KeyError",
     "evalue": "'state'",
     "output_type": "error",
     "traceback": [
      "\u001b[0;31m---------------------------------------------------------------------------\u001b[0m",
      "\u001b[0;31mKeyError\u001b[0m                                  Traceback (most recent call last)",
      "\u001b[0;32m<ipython-input-33-a9739a60c3dc>\u001b[0m in \u001b[0;36m<module>\u001b[0;34m\u001b[0m\n\u001b[0;32m----> 1\u001b[0;31m \u001b[0mdf_state\u001b[0m \u001b[0;34m=\u001b[0m \u001b[0mdf_state\u001b[0m\u001b[0;34m.\u001b[0m\u001b[0mgroupby\u001b[0m\u001b[0;34m(\u001b[0m\u001b[0;34m[\u001b[0m\u001b[0;34m'state'\u001b[0m\u001b[0;34m,\u001b[0m\u001b[0;34m'date'\u001b[0m\u001b[0;34m]\u001b[0m\u001b[0;34m)\u001b[0m\u001b[0;34m.\u001b[0m\u001b[0mmean\u001b[0m\u001b[0;34m(\u001b[0m\u001b[0;34m)\u001b[0m\u001b[0;34m.\u001b[0m\u001b[0mreset_index\u001b[0m\u001b[0;34m(\u001b[0m\u001b[0;34m)\u001b[0m\u001b[0;34m\u001b[0m\u001b[0;34m\u001b[0m\u001b[0m\n\u001b[0m",
      "\u001b[0;32m~/.conda/envs/data_env/lib/python3.6/site-packages/pandas/core/frame.py\u001b[0m in \u001b[0;36mgroupby\u001b[0;34m(self, by, axis, level, as_index, sort, group_keys, squeeze, observed)\u001b[0m\n\u001b[1;32m   5808\u001b[0m             \u001b[0mgroup_keys\u001b[0m\u001b[0;34m=\u001b[0m\u001b[0mgroup_keys\u001b[0m\u001b[0;34m,\u001b[0m\u001b[0;34m\u001b[0m\u001b[0;34m\u001b[0m\u001b[0m\n\u001b[1;32m   5809\u001b[0m             \u001b[0msqueeze\u001b[0m\u001b[0;34m=\u001b[0m\u001b[0msqueeze\u001b[0m\u001b[0;34m,\u001b[0m\u001b[0;34m\u001b[0m\u001b[0;34m\u001b[0m\u001b[0m\n\u001b[0;32m-> 5810\u001b[0;31m             \u001b[0mobserved\u001b[0m\u001b[0;34m=\u001b[0m\u001b[0mobserved\u001b[0m\u001b[0;34m,\u001b[0m\u001b[0;34m\u001b[0m\u001b[0;34m\u001b[0m\u001b[0m\n\u001b[0m\u001b[1;32m   5811\u001b[0m         )\n\u001b[1;32m   5812\u001b[0m \u001b[0;34m\u001b[0m\u001b[0m\n",
      "\u001b[0;32m~/.conda/envs/data_env/lib/python3.6/site-packages/pandas/core/groupby/groupby.py\u001b[0m in \u001b[0;36m__init__\u001b[0;34m(self, obj, keys, axis, level, grouper, exclusions, selection, as_index, sort, group_keys, squeeze, observed, mutated)\u001b[0m\n\u001b[1;32m    408\u001b[0m                 \u001b[0msort\u001b[0m\u001b[0;34m=\u001b[0m\u001b[0msort\u001b[0m\u001b[0;34m,\u001b[0m\u001b[0;34m\u001b[0m\u001b[0;34m\u001b[0m\u001b[0m\n\u001b[1;32m    409\u001b[0m                 \u001b[0mobserved\u001b[0m\u001b[0;34m=\u001b[0m\u001b[0mobserved\u001b[0m\u001b[0;34m,\u001b[0m\u001b[0;34m\u001b[0m\u001b[0;34m\u001b[0m\u001b[0m\n\u001b[0;32m--> 410\u001b[0;31m                 \u001b[0mmutated\u001b[0m\u001b[0;34m=\u001b[0m\u001b[0mself\u001b[0m\u001b[0;34m.\u001b[0m\u001b[0mmutated\u001b[0m\u001b[0;34m,\u001b[0m\u001b[0;34m\u001b[0m\u001b[0;34m\u001b[0m\u001b[0m\n\u001b[0m\u001b[1;32m    411\u001b[0m             )\n\u001b[1;32m    412\u001b[0m \u001b[0;34m\u001b[0m\u001b[0m\n",
      "\u001b[0;32m~/.conda/envs/data_env/lib/python3.6/site-packages/pandas/core/groupby/grouper.py\u001b[0m in \u001b[0;36mget_grouper\u001b[0;34m(obj, key, axis, level, sort, observed, mutated, validate)\u001b[0m\n\u001b[1;32m    598\u001b[0m                 \u001b[0min_axis\u001b[0m\u001b[0;34m,\u001b[0m \u001b[0mname\u001b[0m\u001b[0;34m,\u001b[0m \u001b[0mlevel\u001b[0m\u001b[0;34m,\u001b[0m \u001b[0mgpr\u001b[0m \u001b[0;34m=\u001b[0m \u001b[0;32mFalse\u001b[0m\u001b[0;34m,\u001b[0m \u001b[0;32mNone\u001b[0m\u001b[0;34m,\u001b[0m \u001b[0mgpr\u001b[0m\u001b[0;34m,\u001b[0m \u001b[0;32mNone\u001b[0m\u001b[0;34m\u001b[0m\u001b[0;34m\u001b[0m\u001b[0m\n\u001b[1;32m    599\u001b[0m             \u001b[0;32melse\u001b[0m\u001b[0;34m:\u001b[0m\u001b[0;34m\u001b[0m\u001b[0;34m\u001b[0m\u001b[0m\n\u001b[0;32m--> 600\u001b[0;31m                 \u001b[0;32mraise\u001b[0m \u001b[0mKeyError\u001b[0m\u001b[0;34m(\u001b[0m\u001b[0mgpr\u001b[0m\u001b[0;34m)\u001b[0m\u001b[0;34m\u001b[0m\u001b[0;34m\u001b[0m\u001b[0m\n\u001b[0m\u001b[1;32m    601\u001b[0m         \u001b[0;32melif\u001b[0m \u001b[0misinstance\u001b[0m\u001b[0;34m(\u001b[0m\u001b[0mgpr\u001b[0m\u001b[0;34m,\u001b[0m \u001b[0mGrouper\u001b[0m\u001b[0;34m)\u001b[0m \u001b[0;32mand\u001b[0m \u001b[0mgpr\u001b[0m\u001b[0;34m.\u001b[0m\u001b[0mkey\u001b[0m \u001b[0;32mis\u001b[0m \u001b[0;32mnot\u001b[0m \u001b[0;32mNone\u001b[0m\u001b[0;34m:\u001b[0m\u001b[0;34m\u001b[0m\u001b[0;34m\u001b[0m\u001b[0m\n\u001b[1;32m    602\u001b[0m             \u001b[0;31m# Add key to exclusions\u001b[0m\u001b[0;34m\u001b[0m\u001b[0;34m\u001b[0m\u001b[0;34m\u001b[0m\u001b[0m\n",
      "\u001b[0;31mKeyError\u001b[0m: 'state'"
     ]
    }
   ],
   "source": [
    "df_state = df_state.groupby(['state','date']).mean().reset_index()"
   ]
  },
  {
   "cell_type": "code",
   "execution_count": 27,
   "metadata": {},
   "outputs": [
    {
     "ename": "NameError",
     "evalue": "name 'df_states' is not defined",
     "output_type": "error",
     "traceback": [
      "\u001b[0;31m---------------------------------------------------------------------------\u001b[0m",
      "\u001b[0;31mNameError\u001b[0m                                 Traceback (most recent call last)",
      "\u001b[0;32m<ipython-input-27-eb09ef61cb39>\u001b[0m in \u001b[0;36m<module>\u001b[0;34m\u001b[0m\n\u001b[0;32m----> 1\u001b[0;31m \u001b[0mdf_states\u001b[0m \u001b[0;34m=\u001b[0m \u001b[0mdf_states\u001b[0m\u001b[0;34m.\u001b[0m\u001b[0mmerge\u001b[0m\u001b[0;34m(\u001b[0m\u001b[0mdf_mand\u001b[0m\u001b[0;34m,\u001b[0m \u001b[0mon\u001b[0m\u001b[0;34m=\u001b[0m\u001b[0;34m'state'\u001b[0m\u001b[0;34m,\u001b[0m\u001b[0msuffixes\u001b[0m\u001b[0;34m=\u001b[0m\u001b[0;34m[\u001b[0m\u001b[0;34m''\u001b[0m\u001b[0;34m,\u001b[0m\u001b[0;34m'_mandate'\u001b[0m\u001b[0;34m]\u001b[0m\u001b[0;34m)\u001b[0m\u001b[0;34m\u001b[0m\u001b[0;34m\u001b[0m\u001b[0m\n\u001b[0m",
      "\u001b[0;31mNameError\u001b[0m: name 'df_states' is not defined"
     ]
    }
   ],
   "source": [
    "df_states = df_states.merge(df_mand, on='state',suffixes=['','_mandate'])"
   ]
  },
  {
   "cell_type": "code",
   "execution_count": null,
   "metadata": {},
   "outputs": [],
   "source": [
    "df_states['pop_size'] = df_states['popestimate2019'].map(pop_size_cat)"
   ]
  },
  {
   "cell_type": "code",
   "execution_count": null,
   "metadata": {},
   "outputs": [],
   "source": [
    "df_graph_mand = df_states[(df_states['state']=='Ohio')|\n",
    "              (df_states['state']=='New Hampshire')|\n",
    "              (df_states['state']=='Texas')|\n",
    "              (df_states['state']=='Massachusetts')|\n",
    "              (df_states['state']=='California')|\n",
    "              (df_states['state']=='Florida')]"
   ]
  },
  {
   "cell_type": "code",
   "execution_count": null,
   "metadata": {},
   "outputs": [],
   "source": [
    "def who_exempt(cell):\n",
    "    if pd.isna(cell):\n",
    "        return 'no mandate'\n",
    "    elif 'children' in cell:\n",
    "        return 'child exempt'\n",
    "    elif 'toddler' in cell:\n",
    "        return 'toddler exempt'\n",
    "    else:\n",
    "        return 'no exemptions'"
   ]
  },
  {
   "cell_type": "code",
   "execution_count": null,
   "metadata": {},
   "outputs": [],
   "source": [
    "df_states['children_toddlers_none'] = df_states['type'].apply(who_exempt)"
   ]
  },
  {
   "cell_type": "code",
   "execution_count": null,
   "metadata": {},
   "outputs": [],
   "source": [
    "df_states['month_mandate'] = df_states['date_mandate'].dt.month\n",
    "df_states['month_mandate'] = df_states['month_mandate'].fillna('no mandate')"
   ]
  },
  {
   "cell_type": "code",
   "execution_count": null,
   "metadata": {},
   "outputs": [],
   "source": [
    "import datetime as dt"
   ]
  },
  {
   "cell_type": "code",
   "execution_count": null,
   "metadata": {},
   "outputs": [],
   "source": [
    "df_states['date_mandate'][0] < dt.datetime.strptime('20200718','%Y%m%d')"
   ]
  },
  {
   "cell_type": "code",
   "execution_count": null,
   "metadata": {},
   "outputs": [],
   "source": [
    "def mandate_when(x):\n",
    "    if pd.isna(x):\n",
    "        return 'No Mandate'\n",
    "    elif x<dt.datetime.strptime('20200515','%Y%m%d'):\n",
    "        return 'Before May 15'\n",
    "    elif x>dt.datetime.strptime('20200715','%Y%m%d'):\n",
    "        return 'After Jul 15'\n",
    "    else:\n",
    "        return 'In Between'"
   ]
  },
  {
   "cell_type": "code",
   "execution_count": null,
   "metadata": {},
   "outputs": [],
   "source": [
    "df_states['mandate_when'] = df_states['date_mandate'].apply(mandate_when)"
   ]
  },
  {
   "cell_type": "code",
   "execution_count": null,
   "metadata": {},
   "outputs": [],
   "source": [
    "m = sns.lineplot(x='date',y='mask_wearer',hue='mandate_when',data=df_states,\n",
    "             hue_order=['Before May 15','In Between','After Jul 15','No Mandate'])\n",
    "\n",
    "handles, labels = m.get_legend_handles_labels()\n",
    "m.legend(bbox_to_anchor=(1,1),title='Mandates enacted',handles=handles[1:], labels=labels[1:])\n",
    "\n",
    "plt.title('Mask wearing in context of mandate')\n",
    "plt.xlabel('Date')\n",
    "plt.ylabel('Percent who wear masks')"
   ]
  },
  {
   "cell_type": "markdown",
   "metadata": {},
   "source": [
    "__Interpretation:__ While there was a drop in mask wearing across the board, states who gave mandatory mask orders earlier were more likely to be wearing masks currently."
   ]
  },
  {
   "cell_type": "code",
   "execution_count": null,
   "metadata": {},
   "outputs": [],
   "source": [
    "m = sns.lineplot(x='date',y='cases',hue='mandate_when',data=df_states,\n",
    "             hue_order=['Before May 15','In Between','After Jul 15','No Mandate'])\n",
    "\n",
    "handles, labels = m.get_legend_handles_labels()\n",
    "m.legend(bbox_to_anchor=(1,1),title='Mandates enacted',handles=handles[1:], labels=labels[1:])\n",
    "\n",
    "plt.title('Positive cases in context of mandate')\n",
    "plt.xlabel('Date')\n",
    "plt.ylabel('Positive cases')\n",
    "\n",
    "plt.savefig('cases_madate.png', dpi=300, bbox_inches='tight')"
   ]
  },
  {
   "cell_type": "markdown",
   "metadata": {},
   "source": [
    "__Interpretation:__ Mask mandated seem to have been enacted as reactionary, not preventative, measures. Mandates went into effect around the time that cases increased."
   ]
  },
  {
   "cell_type": "code",
   "execution_count": null,
   "metadata": {},
   "outputs": [],
   "source": [
    "a = sns.lineplot(x='date',y='deaths',hue='mandate_when',data=df_states,\n",
    "             hue_order=['Before May 15','In Between','After Jul 15','No Mandate'])\n",
    "\n",
    "plt.title('Deaths in context of mandate')\n",
    "plt.xlabel('Date')\n",
    "plt.ylabel('Deaths')\n",
    "\n",
    "handles, labels = a.get_legend_handles_labels()\n",
    "a.legend(bbox_to_anchor=(1.38,1),title='Mandates enacted',handles=handles[1:], labels=labels[1:])\n",
    "\n",
    "#plt.savefig('deaths_mandate.png', dpi=300, bbox_inches='tight')"
   ]
  },
  {
   "cell_type": "markdown",
   "metadata": {},
   "source": [
    "__Interpretation:__ Mandates went into effect around the time that deaths increased."
   ]
  },
  {
   "cell_type": "code",
   "execution_count": null,
   "metadata": {},
   "outputs": [],
   "source": [
    "o = sns.lineplot(x='date',y='cases_per_million',hue='mandate_when',data=df_states,\n",
    "             hue_order=['Before May 15','In Between','After Jul 15','No Mandate'])\n",
    "\n",
    "handles, labels = o.get_legend_handles_labels()\n",
    "o.legend(bbox_to_anchor=(1.38,1),title='Mandates enacted',handles=handles[1:], labels=labels[1:])\n",
    "\n",
    "plt.title('Positive cases per million in context of mandate')\n",
    "plt.xlabel('Date')\n",
    "plt.ylabel('Positive cases per million')\n",
    "\n",
    "# plt.savefig('cases_madate.png', dpi=300, bbox_inches='tight')"
   ]
  },
  {
   "cell_type": "code",
   "execution_count": null,
   "metadata": {},
   "outputs": [],
   "source": [
    "month_map = {\n",
    "    1:'Jan',\n",
    "    2:'Feb',\n",
    "    3:'March',\n",
    "    4:'April',\n",
    "    5:'May',\n",
    "    6:'June',\n",
    "    7:'July',\n",
    "    8:'Aug',\n",
    "    9:'Sept',\n",
    "    10:'Oct',\n",
    "    11:'Nov',\n",
    "    12:'Dec'\n",
    "}"
   ]
  },
  {
   "cell_type": "code",
   "execution_count": null,
   "metadata": {},
   "outputs": [],
   "source": [
    "df_states['month_case'] = df_states['date'].dt.month"
   ]
  },
  {
   "cell_type": "code",
   "execution_count": null,
   "metadata": {},
   "outputs": [],
   "source": [
    "df_states['month_case_name'] = df_states['month_case'].map(month_map)"
   ]
  },
  {
   "cell_type": "code",
   "execution_count": null,
   "metadata": {},
   "outputs": [],
   "source": [
    "df_cat_graph = df_states[df_states['month_case'] >= 7]"
   ]
  },
  {
   "cell_type": "code",
   "execution_count": null,
   "metadata": {},
   "outputs": [],
   "source": [
    "df_cat_graph = df_cat_graph.groupby('state').mean().reset_index()\n",
    "df_cat_graph['pop_size'] = df_cat_graph['popestimate2019'].map(pop_size_cat)\n",
    "df_cat_graph = df_cat_graph.merge(df_states[['state','mandate_when']],on='state')\n",
    "df_cat_graph['month_case_name'] = df_cat_graph['month_case'].map(month_map)"
   ]
  },
  {
   "cell_type": "code",
   "execution_count": null,
   "metadata": {},
   "outputs": [],
   "source": [
    "sns.barplot(x='mandate_when',y='cases_per_thousand',hue='pop_size',\n",
    "            data=df_cat_graph, hue_order=state_order, \n",
    "            order=[\n",
    "                'No Mandate',\n",
    "                'Before May 15',\n",
    "                'In Between',\n",
    "                'After Jul 15'\n",
    "            ])\n",
    "plt.title('State population size and mask mandate vs cases since July')\n",
    "plt.ylabel('Cases per Thousand')\n",
    "plt.xlabel('Date of Mask Mandate')"
   ]
  },
  {
   "cell_type": "markdown",
   "metadata": {},
   "source": [
    "__Interpretation:__ More evidence that mandates were reactionary with some additional insights: \n",
    "\n",
    "* Those who enacted mandates before May have less cases per thousand than those who enacted mandates between May and Jul. \n",
    "* States who enacted mandates after Jul are doing better than either early mandaters, although this may be due to lack of data.\n",
    "* States who have no mandate are overtaking the late adopters\n",
    "\n",
    "NOTE: The `In Between` category might be too broad, given the ginormous confidence interval."
   ]
  },
  {
   "cell_type": "markdown",
   "metadata": {},
   "source": [
    "# Hypothesis Testing"
   ]
  },
  {
   "cell_type": "markdown",
   "metadata": {},
   "source": [
    "__Idea:__ The main reason for adherence to masks is a sense of danger. \n",
    "\n",
    "__Hypothesis:__ Mask wearing is affected by both early mask orders and higher cases per million."
   ]
  },
  {
   "cell_type": "code",
   "execution_count": null,
   "metadata": {},
   "outputs": [],
   "source": [
    "db = h.db_load_table('covid_states',db='covid.db')"
   ]
  },
  {
   "cell_type": "code",
   "execution_count": null,
   "metadata": {},
   "outputs": [],
   "source": [
    "abbrev = pd.read_csv('data/abbrevs.csv')"
   ]
  },
  {
   "cell_type": "code",
   "execution_count": null,
   "metadata": {},
   "outputs": [],
   "source": [
    "abbrev.head()"
   ]
  },
  {
   "cell_type": "code",
   "execution_count": null,
   "metadata": {},
   "outputs": [],
   "source": [
    "db = db.merge(abbrev, left_on='state',right_on='Abbreviation')"
   ]
  },
  {
   "cell_type": "code",
   "execution_count": null,
   "metadata": {},
   "outputs": [],
   "source": [
    "db = db[['date','State','positiveIncrease','positive','negative','death','totalTestResults']]"
   ]
  },
  {
   "cell_type": "code",
   "execution_count": null,
   "metadata": {},
   "outputs": [],
   "source": [
    "db = db[['date','State','positiveIncrease','positive','negative','death','totalTestResults']]\n",
    "db.columns = ['date','state','new_positive','total_positive','total_negative','total_death','total_test_results']\n",
    "db.head()"
   ]
  },
  {
   "cell_type": "code",
   "execution_count": null,
   "metadata": {},
   "outputs": [],
   "source": [
    "list_diff(list(df_states['state'].unique()),list(db['state'].unique()))"
   ]
  },
  {
   "cell_type": "code",
   "execution_count": null,
   "metadata": {},
   "outputs": [],
   "source": [
    "df_states = df_states.merge(db, on=['state','date'], suffixes=('_nyt','_ct'))"
   ]
  },
  {
   "cell_type": "code",
   "execution_count": null,
   "metadata": {},
   "outputs": [],
   "source": [
    "df_states['new_pos_hundred'] = (df_states['new_positive']/df_states['popestimate2019']) * 100\n",
    "df_states['new_pos_thousand'] = (df_states['new_positive']/df_states['popestimate2019']) * 1000\n",
    "df_states['new_pos_hthousand'] = (df_states['new_positive']/df_states['popestimate2019']) * 100000\n",
    "df_states['new_pos_million'] = (df_states['new_positive']/df_states['popestimate2019']) * 1000000"
   ]
  },
  {
   "cell_type": "code",
   "execution_count": null,
   "metadata": {},
   "outputs": [],
   "source": [
    "sns.lineplot(x='date',y='new_pos_million',data=df_states)"
   ]
  },
  {
   "cell_type": "code",
   "execution_count": null,
   "metadata": {},
   "outputs": [],
   "source": [
    "df_graph = df_states[(df_states['state']=='Ohio')|\n",
    "              (df_states['state']=='Massachusetts')|\n",
    "              (df_states['state']=='Texas')]"
   ]
  },
  {
   "cell_type": "code",
   "execution_count": null,
   "metadata": {},
   "outputs": [],
   "source": [
    "df_graph = df_graph[['state','date','new_pos_million','mask_wearer']]\n",
    "df_graph.head()"
   ]
  },
  {
   "cell_type": "code",
   "execution_count": null,
   "metadata": {},
   "outputs": [],
   "source": [
    "def graph_case_v_mask(state):\n",
    "    k = sns.lineplot(x='date',y='mask_wearer',data=df_states[df_states['state']==state], color='red',label='Mask Wearing')\n",
    "    plt.title(f'New Cases vs Mask Wearing in {state}')\n",
    "    plt.ylabel('Mask wearing (%)')\n",
    "    plt.legend(bbox_to_anchor = (1.445,0.9))\n",
    "    ax = k.twinx()\n",
    "    sns.lineplot(x='date',y='new_pos_million',data=df_states[df_states['state']==state],ax=ax, label = 'New Cases per Million')\n",
    "    plt.ylabel('New cases per million')\n",
    "    plt.xlabel('Date')\n",
    "    plt.legend(bbox_to_anchor = (1.1,1))\n"
   ]
  },
  {
   "cell_type": "code",
   "execution_count": null,
   "metadata": {},
   "outputs": [],
   "source": [
    "graph_case_v_mask('Ohio')\n",
    "plt.ylim(0,700)"
   ]
  },
  {
   "cell_type": "code",
   "execution_count": null,
   "metadata": {},
   "outputs": [],
   "source": [
    "graph_case_v_mask('Texas')\n",
    "plt.ylim(0,700)"
   ]
  },
  {
   "cell_type": "code",
   "execution_count": null,
   "metadata": {},
   "outputs": [],
   "source": [
    "graph_case_v_mask('California')\n",
    "plt.ylim(0,700)"
   ]
  },
  {
   "cell_type": "code",
   "execution_count": null,
   "metadata": {},
   "outputs": [],
   "source": [
    "graph_case_v_mask('Florida')\n",
    "plt.ylim(0,700)"
   ]
  },
  {
   "cell_type": "code",
   "execution_count": null,
   "metadata": {},
   "outputs": [],
   "source": [
    "df"
   ]
  }
 ],
 "metadata": {
  "kernelspec": {
   "display_name": "Data Python Env",
   "language": "python",
   "name": "data_env"
  },
  "language_info": {
   "codemirror_mode": {
    "name": "ipython",
    "version": 3
   },
   "file_extension": ".py",
   "mimetype": "text/x-python",
   "name": "python",
   "nbconvert_exporter": "python",
   "pygments_lexer": "ipython3",
   "version": "3.6.10"
  }
 },
 "nbformat": 4,
 "nbformat_minor": 4
}
